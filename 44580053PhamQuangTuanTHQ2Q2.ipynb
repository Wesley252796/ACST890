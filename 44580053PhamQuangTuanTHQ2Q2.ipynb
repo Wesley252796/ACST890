{
 "cells": [
  {
   "cell_type": "code",
   "execution_count": 3,
   "metadata": {},
   "outputs": [],
   "source": [
    "import pandas as pd\n",
    "import numpy as np\n",
    "import matplotlib.pyplot as plt"
   ]
  },
  {
   "cell_type": "code",
   "execution_count": 18,
   "metadata": {},
   "outputs": [
    {
     "name": "stdout",
     "output_type": "stream",
     "text": [
      "         Output, Q  Labour, L  Capital, K\n",
      "Country                                  \n",
      "B               80         60          50\n",
      "C              150        100         100\n",
      "D              135        100          80\n",
      "E              165        120         100\n",
      "F               95         70          60\n",
      "G              130         90          80\n",
      "H              110         80          70\n",
      "Country      B    C    D    E   F    G    H\n",
      "Output, Q   80  150  135  165  95  130  110\n",
      "Labour, L   60  100  100  120  70   90   80\n",
      "Capital, K  50  100   80  100  60   80   70\n"
     ]
    }
   ],
   "source": [
    "data = {'Country': [ 'B', 'C', 'D', 'E', 'F', 'G', 'H'], \n",
    "        'Output, Q':[ 80, 150, 135, 165, 95, 130, 110], \n",
    "        'Labour, L':[ 60, 100, 100, 120, 70, 90, 80],\n",
    "        'Capital, K':[ 50, 100, 80, 100, 60, 80, 70]}\n",
    "economy = pd.DataFrame(data, columns=['Country','Output, Q','Labour, L', 'Capital, K'])\n",
    "economy.set_index('Country', inplace=True)\n",
    "given_economy = pd.DataFrame.transpose(economy)\n",
    "print(economy)\n",
    "print(given_economy)\n",
    "                                                                                            "
   ]
  },
  {
   "cell_type": "code",
   "execution_count": 40,
   "metadata": {},
   "outputs": [
    {
     "name": "stdout",
     "output_type": "stream",
     "text": [
      "Mean of Q, L and K\n"
     ]
    },
    {
     "data": {
      "text/plain": [
       "Output, Q     123.571429\n",
       "Labour, L      88.571429\n",
       "Capital, K     77.142857\n",
       "dtype: float64"
      ]
     },
     "execution_count": 40,
     "metadata": {},
     "output_type": "execute_result"
    }
   ],
   "source": [
    "#Find mean of Q, L and K\n",
    "print ('Mean of Q, L and K')\n",
    "economy.mean()"
   ]
  },
  {
   "cell_type": "code",
   "execution_count": 41,
   "metadata": {},
   "outputs": [
    {
     "name": "stdout",
     "output_type": "stream",
     "text": [
      "Variance of Q, L and K\n"
     ]
    },
    {
     "data": {
      "text/plain": [
       "Output, Q     914.285714\n",
       "Labour, L     414.285714\n",
       "Capital, K    357.142857\n",
       "dtype: float64"
      ]
     },
     "execution_count": 41,
     "metadata": {},
     "output_type": "execute_result"
    }
   ],
   "source": [
    "#Find variance of Q, L and K\n",
    "print ('Variance of Q, L and K')\n",
    "economy.var()"
   ]
  },
  {
   "cell_type": "code",
   "execution_count": 42,
   "metadata": {},
   "outputs": [
    {
     "name": "stdout",
     "output_type": "stream",
     "text": [
      "Standard deviation of Q, L and K\n"
     ]
    },
    {
     "data": {
      "text/plain": [
       "Output, Q     30.237158\n",
       "Labour, L     20.354010\n",
       "Capital, K    18.898224\n",
       "dtype: float64"
      ]
     },
     "execution_count": 42,
     "metadata": {},
     "output_type": "execute_result"
    }
   ],
   "source": [
    "#Find standard deviation of Q, L and K\n",
    "print ('Standard deviation of Q, L and K')\n",
    "economy.std()"
   ]
  },
  {
   "cell_type": "code",
   "execution_count": 43,
   "metadata": {},
   "outputs": [
    {
     "name": "stdout",
     "output_type": "stream",
     "text": [
      "Median of Q, L and K\n"
     ]
    },
    {
     "data": {
      "text/plain": [
       "Output, Q     130.0\n",
       "Labour, L      90.0\n",
       "Capital, K     80.0\n",
       "dtype: float64"
      ]
     },
     "execution_count": 43,
     "metadata": {},
     "output_type": "execute_result"
    }
   ],
   "source": [
    "#Find median of Q, L and K\n",
    "print('Median of Q, L and K')\n",
    "economy.median()"
   ]
  },
  {
   "cell_type": "code",
   "execution_count": 54,
   "metadata": {},
   "outputs": [
    {
     "name": "stdout",
     "output_type": "stream",
     "text": [
      "Country\n",
      "B     80\n",
      "C    150\n",
      "D    135\n",
      "E    165\n",
      "F     95\n",
      "G    130\n",
      "H    110\n",
      "Name: Output, Q, dtype: int64\n"
     ]
    },
    {
     "data": {
      "text/plain": [
       "(array([2., 1., 2., 2.]),\n",
       " array([ 80.  , 101.25, 122.5 , 143.75, 165.  ]),\n",
       " <a list of 4 Patch objects>)"
      ]
     },
     "execution_count": 54,
     "metadata": {},
     "output_type": "execute_result"
    },
    {
     "data": {
      "image/png": "[encoded data removed]",
      "text/plain": [
       "<Figure size 432x288 with 1 Axes>"
      ]
     },
     "metadata": {
      "needs_background": "light"
     },
     "output_type": "display_data"
    }
   ],
   "source": [
    "print(economy['Output, Q'])\n",
    "economy_output = economy['Output, Q']\n",
    "plt.hist(economy['Output, Q'],bins=\"auto\") #Plot the histogram of Output"
   ]
  },
  {
   "cell_type": "code",
   "execution_count": 53,
   "metadata": {},
   "outputs": [
    {
     "name": "stdout",
     "output_type": "stream",
     "text": [
      "Country\n",
      "B     60\n",
      "C    100\n",
      "D    100\n",
      "E    120\n",
      "F     70\n",
      "G     90\n",
      "H     80\n",
      "Name: Labour, L, dtype: int64\n"
     ]
    },
    {
     "data": {
      "text/plain": [
       "(array([2., 1., 3., 1.]),\n",
       " array([ 60.,  75.,  90., 105., 120.]),\n",
       " <a list of 4 Patch objects>)"
      ]
     },
     "execution_count": 53,
     "metadata": {},
     "output_type": "execute_result"
    },
    {
     "data": {
      "image/png": "[encoded data removed]",
      "text/plain": [
       "<Figure size 432x288 with 1 Axes>"
      ]
     },
     "metadata": {
      "needs_background": "light"
     },
     "output_type": "display_data"
    }
   ],
   "source": [
    "print(economy['Labour, L'])\n",
    "plt.hist(economy['Labour, L'], bins='auto') #plot histogram for Labour "
   ]
  },
  {
   "cell_type": "code",
   "execution_count": 57,
   "metadata": {},
   "outputs": [
    {
     "name": "stdout",
     "output_type": "stream",
     "text": [
      "         Output, Q  Labour, L  Capital, K\n",
      "Country                                  \n",
      "B         4.382027   4.094345    3.912023\n",
      "C         5.010635   4.605170    4.605170\n",
      "D         4.905275   4.605170    4.382027\n",
      "E         5.105945   4.787492    4.605170\n",
      "F         4.553877   4.248495    4.094345\n",
      "G         4.867534   4.499810    4.382027\n",
      "H         4.700480   4.382027    4.248495\n"
     ]
    }
   ],
   "source": [
    "tval = np.log(economy)\n",
    "print(tval)"
   ]
  },
  {
   "cell_type": "code",
   "execution_count": 95,
   "metadata": {},
   "outputs": [
    {
     "name": "stdout",
     "output_type": "stream",
     "text": [
      "[4.38189049 5.01467364 4.90115138 5.11466379 4.55918539 4.84336878\n",
      " 4.71084044]\n",
      "Coeffcients:  [0.54842747 0.50874094]\n",
      "Intercept:  0.14623321175616688\n"
     ]
    }
   ],
   "source": [
    "from sklearn import linear_model \n",
    "X = tval[['Labour, L','Capital, K']]\n",
    "Y = tval['Output, Q']\n",
    "regr = linear_model.LinearRegression()\n",
    "regr.fit(X,Y)\n",
    "regr.predict(X)\n",
    "print(regr.predict(X))\n",
    "\n",
    "print('Coeffcients: ', regr.coef_)\n",
    "print('Intercept: ', regr.intercept_)"
   ]
  },
  {
   "cell_type": "code",
   "execution_count": 67,
   "metadata": {},
   "outputs": [
    {
     "name": "stdout",
     "output_type": "stream",
     "text": [
      "                            OLS Regression Results                            \n",
      "==============================================================================\n",
      "Dep. Variable:              Output, Q   R-squared:                       0.998\n",
      "Model:                            OLS   Adj. R-squared:                  0.997\n",
      "Method:                 Least Squares   F-statistic:                     958.4\n",
      "Date:                Thu, 16 May 2019   Prob (F-statistic):           4.34e-06\n",
      "Time:                        21:48:00   Log-Likelihood:                 21.712\n",
      "No. Observations:                   7   AIC:                            -37.42\n",
      "Df Residuals:                       4   BIC:                            -37.59\n",
      "Df Model:                           2                                         \n",
      "Covariance Type:            nonrobust                                         \n",
      "==============================================================================\n",
      "                 coef    std err          t      P>|t|      [0.025      0.975]\n",
      "------------------------------------------------------------------------------\n",
      "const          0.1462      0.114      1.282      0.269      -0.170       0.463\n",
      "Labour, L      0.5484      0.090      6.127      0.004       0.300       0.797\n",
      "Capital, K     0.5087      0.083      6.150      0.004       0.279       0.738\n",
      "==============================================================================\n",
      "Omnibus:                          nan   Durbin-Watson:                   2.801\n",
      "Prob(Omnibus):                    nan   Jarque-Bera (JB):                2.261\n",
      "Skew:                           1.352   Prob(JB):                        0.323\n",
      "Kurtosis:                       3.665   Cond. No.                         160.\n",
      "==============================================================================\n",
      "\n",
      "Warnings:\n",
      "[1] Standard Errors assume that the covariance matrix of the errors is correctly specified.\n"
     ]
    },
    {
     "name": "stderr",
     "output_type": "stream",
     "text": [
      "C:\\Users\\Tuan\\Anaconda3\\lib\\site-packages\\statsmodels\\stats\\stattools.py:72: ValueWarning: omni_normtest is not valid with less than 8 observations; 7 samples were given.\n",
      "  \"samples were given.\" % int(n), ValueWarning)\n"
     ]
    }
   ],
   "source": [
    "#fitting with statsmodel\n",
    "import statsmodels.api as sm\n",
    "X = tval[['Labour, L','Capital, K']]\n",
    "Y = tval['Output, Q']\n",
    "\n",
    "X = sm.add_constant(X)\n",
    "\n",
    "model = sm.OLS(Y,X).fit()\n",
    "\n",
    "\n",
    "print_model = model.summary()\n",
    "print(print_model)"
   ]
  },
  {
   "cell_type": "code",
   "execution_count": 98,
   "metadata": {},
   "outputs": [
    {
     "data": {
      "text/plain": [
       "<matplotlib.collections.PathCollection at 0x17843dcba58>"
      ]
     },
     "execution_count": 98,
     "metadata": {},
     "output_type": "execute_result"
    },
    {
     "data": {
      "image/png": "[encoded data removed]",
      "text/plain": [
       "<Figure size 432x288 with 1 Axes>"
      ]
     },
     "metadata": {
      "needs_background": "light"
     },
     "output_type": "display_data"
    }
   ],
   "source": [
    "Y_hat = regr.predict(X)\n",
    "residuals = Y - Y_hat \n",
    "plt.scatter(residuals, Y_hat)"
   ]
  },
  {
   "cell_type": "code",
   "execution_count": 111,
   "metadata": {},
   "outputs": [
    {
     "name": "stdout",
     "output_type": "stream",
     "text": [
      "0.9968763418198051\n"
     ]
    }
   ],
   "source": [
    "R_squared = regr.score(X,Y)\n",
    "Sample_size = 7\n",
    "Predictors = 2 \n",
    "Adj_R2 = 1 - (1-R_squared)*(Sample_size-1)/(Sample_size - Predictors - 1)\n",
    "print(Adj_R2)"
   ]
  }
 ],
 "metadata": {
  "kernelspec": {
   "display_name": "Python 3",
   "language": "python",
   "name": "python3"
  },
  "language_info": {
   "codemirror_mode": {
    "name": "ipython",
    "version": 3
   },
   "file_extension": ".py",
   "mimetype": "text/x-python",
   "name": "python",
   "nbconvert_exporter": "python",
   "pygments_lexer": "ipython3",
   "version": "3.7.3"
  }
 },
 "nbformat": 4,
 "nbformat_minor": 2
}
